{
 "cells": [
  {
   "cell_type": "code",
   "execution_count": null,
   "id": "8b98d80b-62dc-46cd-913d-28cb87ea10a6",
   "metadata": {},
   "outputs": [
    {
     "name": "stdout",
     "output_type": "stream",
     "text": [
      "FAISS 인덱스 및 메타데이터 로드 성공\n",
      "BM25 인덱스 로드 성공\n",
      "✅ 기존 챗봇 모듈 로드 성공!\n"
     ]
    },
    {
     "name": "stderr",
     "output_type": "stream",
     "text": [
      "F:\\Repository\\JupyterLab_With_LangChain_UI\\chat_with_hybrid_opensource.py:63: LangChainDeprecationWarning: Please see the migration guide at: https://python.langchain.com/docs/versions/migrating_memory/\n",
      "  memory = ConversationBufferMemory(memory_key=\"chat_history\")\n"
     ]
    }
   ],
   "source": [
    "# 필요한 라이브러리가 없다면 설치\n",
    "# !pip install sentence-transformers faiss-cpu openai langchain eunjeon rank-bm25 python-dotenv\n",
    "\n",
    "# 기존 모듈 임포트\n",
    "import sys\n",
    "import os\n",
    "sys.path.append('.')\n",
    "\n",
    "# 기존 chat_with_hybrid.py 함수들 임포트\n",
    "try:\n",
    "    from chat_with_hybrid_opensource import process_chat, hybrid_search, metadata, generate_rag_answer\n",
    "    print(\"✅ 기존 챗봇 모듈 로드 성공!\")\n",
    "except ImportError as e:\n",
    "    print(f\"❌ 모듈 로드 실패: {e}\")\n",
    "    # print(\"💡 chat_with_hybrid.py 파일이 같은 폴더에 있는지 확인해주세요.\")"
   ]
  },
  {
   "cell_type": "code",
   "execution_count": null,
   "id": "66ed79f5-0ee3-4360-9b7e-939f8533a7b8",
   "metadata": {},
   "outputs": [],
   "source": []
  }
 ],
 "metadata": {
  "kernelspec": {
   "display_name": "Python 3 (ipykernel)",
   "language": "python",
   "name": "python3"
  },
  "language_info": {
   "codemirror_mode": {
    "name": "ipython",
    "version": 3
   },
   "file_extension": ".py",
   "mimetype": "text/x-python",
   "name": "python",
   "nbconvert_exporter": "python",
   "pygments_lexer": "ipython3",
   "version": "3.10.18"
  }
 },
 "nbformat": 4,
 "nbformat_minor": 5
}
