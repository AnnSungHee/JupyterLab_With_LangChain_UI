{
 "cells": [
  {
   "cell_type": "markdown",
   "id": "9a323dc1-a12c-4abe-b64d-ca8070f1ab96",
   "metadata": {},
   "source": [
    "# 셀 1: 라이브러리 및 기본 설정"
   ]
  },
  {
   "cell_type": "code",
   "execution_count": null,
   "id": "5fbc75fe-4fa0-4334-906b-91455d890b43",
   "metadata": {},
   "outputs": [],
   "source": [
    "import os\n",
    "import pickle\n",
    "import numpy as np\n",
    "import matplotlib.pyplot as plt\n",
    "import seaborn as sns\n",
    "from chat_with_hybrid_opensource import *  # 기존 모든 함수 import"
   ]
  },
  {
   "cell_type": "markdown",
   "id": "0d51a447-6b67-495f-8a18-049054f07df3",
   "metadata": {},
   "source": [
    "# 셀 2: 데이터 확인 및 탐색"
   ]
  },
  {
   "cell_type": "code",
   "execution_count": null,
   "id": "97fd15af-3a3c-4949-8e10-9a9899c2f647",
   "metadata": {},
   "outputs": [],
   "source": [
    "print(f\"총 문서 수: {len(metadata)}\")\n",
    "print(f\"인덱스 크기: {index.ntotal}\")\n",
    "\n",
    "# 문서 길이 분포 시각화\n",
    "doc_lengths = [len(doc['내용']) for doc in metadata]\n",
    "plt.hist(doc_lengths, bins=30)\n",
    "plt.title('문서 길이 분포')\n",
    "plt.show()"
   ]
  },
  {
   "cell_type": "markdown",
   "id": "0f08958a-446b-4b2f-ae18-14c2458dc6d2",
   "metadata": {},
   "source": [
    "# 셀 3: 다양한 Alpha 값 비교 "
   ]
  },
  {
   "cell_type": "code",
   "execution_count": null,
   "id": "d75201e3-5333-4709-ac26-9f8724572d5f",
   "metadata": {},
   "outputs": [],
   "source": [
    "test_queries = [\"경복궁\", \"불국사\", \"석굴암\", \"창덕궁\", \"종묘\"]\n",
    "alpha_values = [0.1, 0.3, 0.5, 0.7, 0.9]\n",
    "\n",
    "results = {}\n",
    "for alpha in alpha_values:\n",
    "    results[alpha] = []\n",
    "    for query in test_queries:\n",
    "        search_results = hybrid_search(query, alpha=alpha)\n",
    "        # 검색 품질 점수 계산 (예: 관련성 점수)\n",
    "        quality_score = evaluate_search_quality(search_results, query)\n",
    "        results[alpha].append(quality_score)"
   ]
  },
  {
   "cell_type": "markdown",
   "id": "770e744d-3433-43dd-8c5b-c64dbecd2747",
   "metadata": {},
   "source": [
    "# 셀 4: 검색 성능 시각화"
   ]
  },
  {
   "cell_type": "code",
   "execution_count": null,
   "id": "aca3ddc5-aee9-486f-b7bd-9b1e76f5d984",
   "metadata": {},
   "outputs": [],
   "source": [
    "import pandas as pd\n",
    "df = pd.DataFrame(results, index=test_queries)\n",
    "df.plot(kind='bar', figsize=(12, 6))\n",
    "plt.title('Alpha 값에 따른 검색 성능')\n",
    "plt.legend(title='Alpha 값')\n",
    "plt.show()"
   ]
  }
 ],
 "metadata": {
  "kernelspec": {
   "display_name": "Python 3 (ipykernel)",
   "language": "python",
   "name": "python3"
  },
  "language_info": {
   "codemirror_mode": {
    "name": "ipython",
    "version": 3
   },
   "file_extension": ".py",
   "mimetype": "text/x-python",
   "name": "python",
   "nbconvert_exporter": "python",
   "pygments_lexer": "ipython3",
   "version": "3.10.18"
  }
 },
 "nbformat": 4,
 "nbformat_minor": 5
}
